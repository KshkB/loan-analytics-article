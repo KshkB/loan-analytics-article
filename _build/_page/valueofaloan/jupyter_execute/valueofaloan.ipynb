{
 "cells": [
  {
   "cell_type": "markdown",
   "id": "0ab47118-2911-4f2c-9a0c-c427fc580db4",
   "metadata": {},
   "source": [
    "# The value of a loan"
   ]
  },
  {
   "cell_type": "markdown",
   "id": "ac83bd6f-42c5-4bc9-956b-7410fc988dc6",
   "metadata": {},
   "source": [
    "## Definition\n",
    "\n",
    "A loan $L$ is defined by three parameters:\n",
    "\n",
    "- the principal amount $(P)$;\n",
    "- the rate of interest $(r)$;\n",
    "- compounding $(n)$.\n",
    "\n",
    "It is important to set, at the outset, the units of time used to express the interest rate. Let $u$ be the unit of time (e.g., it could be days, months, years etc.). Interest is expressed in units $u$. Compounding refers to the number of times interest is applied on the loan principal. With compounding set to $1$, this means the interest is compounded once every $u$ times (e.g., once per year, if $u$ is *years*). This gives the interpretation of interest as the rate at which the principal value of the loan grows over one unit of time, $u$.  More generally, if compounding is $n$, then interest $r$ as expressed per unit $u$ is applied on the principal $n$-many times over a single time period $u$. This is equivalent to the interest $r/n$ being applied every $(1/n)$-time periods.\n",
    "\n",
    "**Example.** *If $u$ is years, $r$ is expressed as \"percent per year\". If compounding is $n = 2$, then $r$ is applied twice per year. And so, over a year, the principle $P$ will grow to $P(1 + r/2)$ by the first half of the year. By the end of the year, it will be $P(1 + r/2)^2$.* \n",
    "\n",
    "The following code generates a **loan card** defining a loan."
   ]
  },
  {
   "cell_type": "code",
   "execution_count": 1,
   "id": "154d2803-d6b5-4255-9c9d-f24c24427fbb",
   "metadata": {},
   "outputs": [],
   "source": [
    "def new_loan(principal, interest, compounding):\n",
    "    loan_card = {}\n",
    "    interest = interest/100\n",
    "    \n",
    "    loan_card[\"Principal\"] = principal\n",
    "    loan_card[\"Interest rate\"] = interest\n",
    "    loan_card[\"Compounding\"] = compounding\n",
    "    \n",
    "    return loan_card"
   ]
  },
  {
   "cell_type": "markdown",
   "id": "e99dd027-8f63-4ebe-882e-f08670832488",
   "metadata": {},
   "source": [
    "## Loan value\n",
    "\n",
    "Let $\\nu_L(t)$ be the value of the loan after $t$ units of time have elapsed. Here $L$ refers to the loan which, recall, is defined by the parameters $(P, r, n)$ being the principal, the interest and compounding. At $t = 0$, $\\nu_L(0)= P$. After $t = 1/n$ units of time have elapsed, the interest $r$ has been compounded once. This means $\\nu_L(1/n) = P(1 + r/n)$. And after $t = 2/n$-units of elapsed time, $\\nu_L(2/n) = P(1 + r/n)^2$. After $t = \\lambda/n$ units of elapsed time, $\\nu_L(\\lambda/n) = P(1 + r/n)^{\\lambda}$. Hence, for *any* amount of elapsed time $t$ we arrive at the analytic expression,\n",
    "\n",
    "$$\n",
    "\\begin{align}\n",
    "\\nu_L(t) = P\\left(1 + \\frac{r}{n}\\right)^{nt}.\n",
    "\\end{align}\n",
    "$$\n",
    "\n",
    "In the following code block, code for calculating the loan value $\\nu_L(t)$ is given. This code passes in a loan card from `new_loan` and the elapsed time."
   ]
  },
  {
   "cell_type": "code",
   "execution_count": 2,
   "id": "017e886d-56e5-4dbe-a25a-748a99ed2de1",
   "metadata": {},
   "outputs": [],
   "source": [
    "def LoanValue(loan, time):\n",
    "    \n",
    "    principal = loan['Principal']\n",
    "    interest = loan['Interest rate']\n",
    "    compounding = loan['Compounding']\n",
    "    \n",
    "    exponent = compounding*time\n",
    "    compounding_factor = (1 + interest/compounding)**exponent\n",
    "    \n",
    "    return principal * compounding_factor"
   ]
  },
  {
   "cell_type": "markdown",
   "id": "1efe0e45-ae27-4594-b8e1-51db2de76d01",
   "metadata": {},
   "source": [
    "## Loan value with repayments\n",
    "\n",
    "Suppose now that regular repayments $R$ are made on the loan each unit of time $u$. E.g., if $u$ is years, then an $R$ amount is repaid on the loan each year. Let $\\nu_{L, R}(t)$ denote the value of the loan $L$ after $t$ units of elapsed time with a repayment rate of $R$ per unit time. With the loan $L$ defined by parameters $(P, r, n)$, it will grow to $\\nu_L(1) = P(1 + r/n)^n$ after one period $u$. At $t = 1$, a repayment of $R$ is made. Hence $\\nu_{L, R}(1) = \\nu_L(1) - R$. Then over the next year, the value of the loan on which interest is applied is *not* $\\nu_L(1)$ but rather $\\nu_{L, R}(1)$. And so, at $t = 2$ we find\n",
    "\n",
    "$$\n",
    "\\begin{align}\n",
    "\\nu_{L, R}(2) \n",
    "&= \n",
    "\\left(\\nu_L(1) - R\\right) \\left(1 + \\frac{r}{n}\\right)^n - R\n",
    "\\\\\n",
    "&= \n",
    "\\nu_L(2) - R\\left(1 + \\frac{r}{n}\\right)^n - R.\n",
    "\\end{align}\n",
    "$$\n",
    "\n",
    "Set for convenience $z = (1 + r/n)^n$. Note that the expression for the loan value simplifies to $\\nu_L(t) = Pz^t$. As for the repaid loan value, at $t = 2$ this becomes $\\nu_{L, R}(2) = Pz^2 - R( 1 + z)$. With a little thought, the general analytic expression for the repaid loan value is,\n",
    "\n",
    "$$\n",
    "\\begin{align}\n",
    "\\nu_{L, R}(t)\n",
    "&=\n",
    "Pz^t - R\\left( 1 + z + \\cdots + z^{t-1}\\right)\n",
    "\\\\\n",
    "&=\n",
    "Pz^t - R\\frac{1 - z^t}{1-z}\n",
    "\\end{align}\n",
    "$$\n",
    "\n",
    "where in the latter we have used the analytic continuation over the domain $\\{z\\in \\mathbb R\\mid z>0\\}$  of a familiar algebraic identity. Note that $z > 0$ whenever the interest $r > 0$.\n",
    "\n",
    "**Note.** *If $R = 0$ above, then we simply recover the loan value $\\nu_L(t)$ as expected, i.e., $\\nu_{L, 0}(t) = \\nu_L(t)$.*\n",
    "\n",
    "Code implementing the loan value with repayments is as follows."
   ]
  },
  {
   "cell_type": "code",
   "execution_count": 3,
   "id": "0906b474-3759-47c8-a9e7-0efaaefe8563",
   "metadata": {},
   "outputs": [],
   "source": [
    "def LoanWithRepayments(loan, time, repayments):\n",
    "    interest = loan['Interest rate']\n",
    "    compounding = loan['Compounding']\n",
    "    z_factor = (1 + interest/compounding)**compounding\n",
    "    \n",
    "    loan_value = LoanValue(loan, time)\n",
    "    repayments_value = repayments*(1 - z_factor**time)/(1-z_factor)\n",
    "    \n",
    "    val = loan_value - repayments_value\n",
    "    if val > 0:\n",
    "        return val\n",
    "    return 0"
   ]
  },
  {
   "cell_type": "markdown",
   "id": "76a1d966-3eb7-4f50-bdb8-aceebf257728",
   "metadata": {},
   "source": [
    "## Loan lifetime\n",
    "\n",
    "### Critical repayment level \n",
    "\n",
    "The value of a loan $L$ changes exponentially in time. If no repayments are made, the lifetime of $L$ is infinite, i.e., it will never be repaid. Indeed, its lifetime will remain inifite if at least a certain amount of repayments are not made per unit of time. \n",
    "\n",
    "**Definition.** *The minimum amount of repayment on the loan per unit time, ensuring the loan will eventually be fully repaid, is refered to as the **critical repayment level**.*\n",
    "\n",
    "The critical repayment level can be found as follows. The condition that a loan be fully repaid is simply the requirement that the value of the loan $\\nu_L(t) = Pz^t$ grows more slowly than the value of repayments $R\\frac{1 - z^t}{1-z}$. That is, the value $\\nu_{R, L}(t)$ is a positive and decreasing as a function of elapsed time. As $\\nu_{L, R}(t)$ is given analytically, the condition that it be decreasing is a condition on its gradient. That is, \n",
    "\n",
    "$$\n",
    "\\begin{align}\n",
    "\\left.\\frac{\\partial \\nu_{L, R}(t)}{\\partial t}\\right|_{t = t_0}\n",
    "< 0\n",
    "\\end{align}\n",
    "$$\n",
    "\n",
    "for all $t_0 > 0$. The above inequality can be written,\n",
    "\n",
    "\\begin{align}\n",
    "t_0z^{t_0-1} \\left( P + \\frac{R}{1-z}\\right) < 0\n",
    "\\end{align}\n",
    "\n",
    "for all $t_0$. This can only hold if $P + \\frac{R}{1-z} < 0$, i.e., for $R > (z-1)P$. The **critical repayment level**, denoted $R_{crit.}$, is therefore \n",
    "\n",
    "$$\n",
    "\\begin{align}\n",
    "R_{crit.} = (z-1)P = \\left( \\left(1 + \\frac{r}{n}\\right)^n - 1\\right)P.\n",
    "\\end{align}\n",
    "$$\n",
    "\n",
    "If $R < R_{crit.}$, the loan $L$ will never be fully repaid."
   ]
  },
  {
   "cell_type": "code",
   "execution_count": 4,
   "id": "54311204-fb18-4fb3-bf5f-d25305efec1a",
   "metadata": {},
   "outputs": [],
   "source": [
    "def criticalLevel(loan):\n",
    "    principal = loan['Principal']\n",
    "    interest = loan['Interest rate']\n",
    "    compounding = loan['Compounding']\n",
    "    z_factor = (1 + interest/compounding)**compounding\n",
    "    \n",
    "    return (z_factor-1)*principal"
   ]
  },
  {
   "cell_type": "markdown",
   "id": "334e5a2c-3ac4-408c-91e3-1587d1c8a80e",
   "metadata": {},
   "source": [
    "### The lifetime\n",
    "\n",
    "If $t_0$ denotes the time elapsed until the loan with repayments is fully repaid, then $t_0$ is equivalently the elapsed time such that $\\nu_{L, R}(t_0) = 0$. With the analytic expression for $\\nu_{L, R}(t)$ above, setting $\\nu_{L, R}(t_0) = 0$ and solving for $t_0$ gives,\n",
    "\n",
    "$$\n",
    "\\begin{align}\n",
    "t_0 = \\frac{1}{\\log z}\\big(\\log R - \\log((1-z)P+R)\\big).\n",
    "\\end{align}\n",
    "$$\n",
    "\n",
    "See that as $R$ limits to the critical repayment value $R \\rightarrow R_{crit.}$, $t_0$ limits to $+\\infty$. And so the lifetime of the loan tends toward infinity as the repayment amount tends to the critical level, as expected. \n",
    "\n",
    "The following code returns the lifetime of a loan with repayments, provided the repayments are above the critical level."
   ]
  },
  {
   "cell_type": "code",
   "execution_count": 5,
   "id": "938f1738-a68c-4e8e-943d-bb78f1eb7492",
   "metadata": {},
   "outputs": [],
   "source": [
    "from math import log\n",
    "\n",
    "def LoanLifetime(loan, repayments):\n",
    "    principal = loan['Principal']\n",
    "    interest = loan['Interest rate']\n",
    "    compounding = loan['Compounding']\n",
    "    z_factor = (1 + interest/compounding)**compounding\n",
    "    \n",
    "    if repayments <= criticalLevel(loan):\n",
    "        print(\"Infinite\")\n",
    "        return \n",
    "    return (1/log(z_factor))*(log(repayments) - log((1-z)*principal + repayments))"
   ]
  },
  {
   "cell_type": "markdown",
   "id": "4bf61bed-810d-4981-a8a7-c223c6a5ef77",
   "metadata": {},
   "source": [
    "## Desired repayments\n",
    "\n",
    "If an amount of time elapsed is specified after which the loan ought to be repaid, what should the period repayments be? The answer to this question can be obtained immediately upon inspection of the repaid loan value $\\nu_{L, R}(t)$. Recall that *any* elapsted time $t_0>0$ can be specified. As long as $t_0 < \\infty$, the desired, periodic repayments, denoted $R_{desired}$, will be greater than the critical repayment level $R_{crit.}$. And so, if $t_0$ denotes the time elapsed after which the loan must be fully repaid, then $R_{desired}$ is obtained by solving for $R_{desired}$ in the equation $\\nu_{L, R_{desired}}(t_0) = 0$. It is given by,\n",
    "\n",
    "$$\n",
    "\\begin{align}\n",
    "R_{desired} = P \\frac{z^{t_0}(1-z)}{1 - z^{t_0}}.\n",
    "\\end{align}\n",
    "$$"
   ]
  },
  {
   "cell_type": "code",
   "execution_count": 6,
   "id": "86b30bde-067c-4ad6-ac42-a6cb6576fd3e",
   "metadata": {},
   "outputs": [],
   "source": [
    "def DesiredRepayments(loan, time):\n",
    "    principal = loan['Principal']\n",
    "    interest = loan['Interest rate']\n",
    "    compounding = loan['Compounding']\n",
    "    z_factor = (1 + interest/compounding)**compounding\n",
    "    \n",
    "    return principal*(z_factor**time)*(1-z_factor)/(1 - z_factor**time)"
   ]
  },
  {
   "cell_type": "markdown",
   "id": "ff17f273-245f-4170-a2e8-d8f0b00cba4a",
   "metadata": {},
   "source": [
    "## Continuous compounding\n",
    "\n",
    "\n",
    "### Continuously compounded loan value\n",
    "\n",
    "The exponential function has many equivalent characterisations. One relevent characterisation for our purposes here is as the limit,\n",
    "\n",
    "$$\n",
    "\\begin{align}\n",
    "Ae^{rt} = \\lim_{n \\rightarrow \\infty} A\\left(1 + \\frac{r}{n}\\right)^{nt}.\n",
    "\\end{align}\n",
    "$$\n",
    "\n",
    "where $A, r$ and $t$ are independent of $n$. Note the similarity with the expression for loan value $\\nu_L(t)$. The limit $n \\rightarrow \\infty$ represents the interest being compounded infinitely many times per unit time, $u$. In this event it is said to be compounded *continuously*. The parameters $(P, r, \\infty)$ defines a loan $L_\\infty$ with continuously compounded interest. "
   ]
  },
  {
   "cell_type": "code",
   "execution_count": 7,
   "id": "6e9dba89-2448-4eb4-83c8-368346e36e8a",
   "metadata": {},
   "outputs": [],
   "source": [
    "def new_loan_cts(principal, interest):\n",
    "    loan_card = {}\n",
    "    interest = interest/100\n",
    "    \n",
    "    loan_card[\"Principal\"] = principal\n",
    "    loan_card[\"Interest rate\"] = interest\n",
    "    \n",
    "    return loan_card"
   ]
  },
  {
   "cell_type": "markdown",
   "id": "648c1eb4-4e24-4e1d-bc07-2a840daab668",
   "metadata": {},
   "source": [
    "Using the above characterisation of the exponential we see that the value of a continuously compounded loan $L_\\infty$ is,\n",
    "\n",
    "$$\n",
    "\\begin{align}\n",
    "\\nu_{L_\\infty}(t) = Pe^{rt}.\n",
    "\\end{align}\n",
    "$$\n",
    "\n",
    "To express the above in terms of limits, let $L_n$ denote the loan $(P, r, n)$. Let $L_\\infty$ denote its continuously compounded counterpart $(P, r, \\infty)$. Then,\n",
    "\n",
    "$$\n",
    "\\begin{align}\n",
    "\\nu_{L_\\infty}(t) = \\lim_{n\\rightarrow \\infty}\\nu_{L_n}(t).\n",
    "\\end{align}\n",
    "$$\n",
    "\n",
    "With the exponential function, the value of a continuously compounded loan can be calculated straightforwardly."
   ]
  },
  {
   "cell_type": "code",
   "execution_count": 8,
   "id": "7fefed61-7f28-45d2-9a93-bf6f226c904e",
   "metadata": {},
   "outputs": [],
   "source": [
    "from math import exp\n",
    "\n",
    "def cts_LoanValue(cts_loan, time):\n",
    "    principal = cts_loan[\"Principal\"]\n",
    "    interest = cts_loan[\"Interest rate\"]\n",
    "    \n",
    "    return princpal*exp(interest*time)"
   ]
  },
  {
   "cell_type": "markdown",
   "id": "e325a216-3725-446d-af34-c3eba50c3312",
   "metadata": {},
   "source": [
    "### Continuously compounded loan value with repayments\n",
    "\n",
    "The expression of the value of the continuously compounded loans $\\nu_{L_\\infty}(t)$ as a limit is suggestive of the general case where periodic repayments are made. Indeed, we can now simply *define*,\n",
    "\n",
    "$$\n",
    "\\begin{align}\n",
    "\\nu_{L_\\infty, R}(t) := \\lim_{n\\rightarrow \\infty} \\nu_{L_n, R}(t).\n",
    "\\end{align}\n",
    "$$\n",
    "\n",
    "It remains to see that the above limit is well defined. Recall that $\\nu_{L_n, R}(t) = \\nu_{L_n}(t) - R\\frac{1 - z^t}{1-z}$. The limit $\\lim_{n\\rightarrow \\infty} \\nu_{L_n, R}(t)$ will be well-defined if each summand is well-defined. We know already that the first summand is well defined and limits to $\\nu_{L_\\infty}(t)$. As for the second, recall that $z = (1 + r/n)^n$. This means $\\lim_{n\\rightarrow \\infty}z = e^r$. And so, as long as $r> 0$,\n",
    "\n",
    "$$\n",
    "\\begin{align}\n",
    "\\lim_{n \\rightarrow\\infty} R\\frac{1 - z^t}{1-z}\n",
    "=\n",
    "R\\frac{1 - e^{rt}}{1 - e^r}.\n",
    "\\end{align}\n",
    "$$\n",
    "\n",
    "Hence the value of a continuously compounded loan with period repayments $R$ is given by the expression,\n",
    "\n",
    "$$\n",
    "\\begin{align}\n",
    "\\nu_{L_\\infty, R}(t) \n",
    "&= \\lim_{n\\rightarrow \\infty} \\nu_{L_n, R}(t)\n",
    "\\\\\n",
    "&=\n",
    "Pe^{rt} - R\\frac{1 - e^{rt}}{1 - e^r}.\n",
    "\\end{align}\n",
    "$$\n",
    "\n",
    "The value $\\nu_{L_\\infty,R}(t)$ is coded below."
   ]
  },
  {
   "cell_type": "code",
   "execution_count": 9,
   "id": "7ebe75c3-c940-48aa-9fec-8f8939365ff5",
   "metadata": {},
   "outputs": [],
   "source": [
    "def cts_LoanWithRepayments(cts_loan, time, repayment):\n",
    "    loan_val = cts_LoanValue(cts_loan, time)\n",
    "    \n",
    "    interest = cts_loan[\"Interest rate\"]\n",
    "    repayment_val = repayment*(1 - exp(interest*time))/(1 - exp(interest))\n",
    "    val = loan_val - repayment_val\n",
    "    \n",
    "    if val > 0:\n",
    "        return val\n",
    "    return 0"
   ]
  },
  {
   "cell_type": "markdown",
   "id": "5fef2ebd-bea4-42f8-b639-5f550e7627ad",
   "metadata": {},
   "source": [
    "### Lifetime of continuously compounded loans\n",
    "\n",
    "#### Critial repayment level\n",
    "\n",
    "As in the discrete (non-continuous) case, the critical repayment level can be found by inspecting the differential inequality $\\partial \\nu_{L_\\infty, R}(t)/\\partial t|_{t = t_0} < 0$ for al $t_0>0$. Doing so leads to,\n",
    "\n",
    "$$\n",
    "\\begin{align}\n",
    "R_{crit.} \n",
    "= \n",
    "(e^r - 1) P.\n",
    "\\end{align}\n",
    "$$\n",
    "\n",
    "With $r> 0$, note that $e^r > 1$. Hence $R_{crit.}$ will always be positive.\n"
   ]
  },
  {
   "cell_type": "code",
   "execution_count": 10,
   "id": "6fde30e2-955f-45f5-9b5a-4fc1bef9b39b",
   "metadata": {},
   "outputs": [],
   "source": [
    "def cts_criticalLevel(cts_loan):\n",
    "    principal = cts_loan[\"Principal\"]\n",
    "    interest = cts_loan[\"Interest rate\"]\n",
    "    \n",
    "    return (exp(interest) - 1)*principal"
   ]
  },
  {
   "cell_type": "markdown",
   "id": "c11e6e2d-ddb6-4e57-85f5-ce0e9951ac1b",
   "metadata": {},
   "source": [
    "#### Lifetime\n",
    "\n",
    "Recall, the lifetime of a loan $L$ is the elapsed time $t_0$ such that $\\nu_{L, R}(t_0) = 0$. The same notion holds for continuously compounded loans $L_\\infty$. The loan lifetime is the elapsed time $t_0$ such that $\\nu_{L_\\infty, R}(t_0) = 0$. It can be expressed analytically as follows,\n",
    "\n",
    "$$\n",
    "\\begin{align}\n",
    "t_0\n",
    "=\n",
    "\\frac{1}{r} \\left(\\log R - \\log\\left((1-e^r)P + R\\right)\\right).\n",
    "\\end{align}\n",
    "$$\n",
    "\n",
    "As in the non-continuous case, as $R \\rightarrow R_{crit.}$, $t_0 \\rightarrow +\\infty$."
   ]
  },
  {
   "cell_type": "code",
   "execution_count": 11,
   "id": "a42c5961-f1de-499a-94bb-e00b2fd7c220",
   "metadata": {},
   "outputs": [],
   "source": [
    "def cts_LoanLifetime(cts_loan, repayment):\n",
    "    principal = cts_loan[\"Principal\"]\n",
    "    interest = cts_loan[\"Interest rate\"]\n",
    "    crit_level = cts_criticalLevel(cts_loan)\n",
    "    \n",
    "    if repayment < crit_level:\n",
    "        print(\"Infinite\")\n",
    "        return\n",
    "    return (1/interest)*(log(repayment) - log((1-exp(interest))*principal + repayment))"
   ]
  },
  {
   "cell_type": "markdown",
   "id": "0d5b4352-3c2b-4ad8-bf74-9ec75e95e8fc",
   "metadata": {},
   "source": [
    "#### Desired repayment amount\n",
    "\n",
    "In order to ensure the continuously compounded loan will be repaid within a specified, elapsed time $t_0$, the desired repayment amount is\n",
    "\n",
    "$$\n",
    "\\begin{align}\n",
    "R_{desired} \n",
    "=\n",
    "P \\frac{e^{rt_0} (1- e^r)}{1 - e^{rt_0}}.\n",
    "\\end{align}\n",
    "$$\n",
    "\n",
    "This is directly analogous to the discrete case above."
   ]
  },
  {
   "cell_type": "code",
   "execution_count": 12,
   "id": "da15beaf-7ad8-4219-ba76-21158ec1452a",
   "metadata": {},
   "outputs": [],
   "source": [
    "def cts_DesiredRepayment(cts_loan, time):\n",
    "    principal = cts_loan[\"Principal\"]\n",
    "    interest = cts_loan[\"Interest rate\"]\n",
    "    \n",
    "    return principal*exp(interest*time)*(1 - exp(interest))/(1 - exp(interest*time))"
   ]
  }
 ],
 "metadata": {
  "kernelspec": {
   "display_name": "Python 3",
   "language": "python",
   "name": "python3"
  },
  "language_info": {
   "codemirror_mode": {
    "name": "ipython",
    "version": 3
   },
   "file_extension": ".py",
   "mimetype": "text/x-python",
   "name": "python",
   "nbconvert_exporter": "python",
   "pygments_lexer": "ipython3",
   "version": "3.8.8"
  }
 },
 "nbformat": 4,
 "nbformat_minor": 5
}